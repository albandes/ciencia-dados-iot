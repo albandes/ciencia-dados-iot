{
 "cells": [
  {
   "cell_type": "code",
   "execution_count": null,
   "id": "42f9287c",
   "metadata": {},
   "outputs": [],
   "source": [
    "import pandas as pd\n",
    "import matplotlib.pyplot as plt\n",
    "from sklearn.linear_model import LinearRegression\n",
    "from sklearn.metrics import mean_squared_error\n",
    "from sklearn.model_selection import train_test_split\n",
    "\n",
    "# Carregar e preparar dados\n",
    "df = pd.read_csv('sensor_temp_umid.csv', parse_dates=['timestamp'])\n",
    "df.set_index('timestamp', inplace=True)\n",
    "df = df.resample('1H').mean().dropna()\n",
    "df.head()\n"
   ]
  },
  {
   "cell_type": "code",
   "execution_count": null,
   "id": "71fa5be5",
   "metadata": {},
   "outputs": [],
   "source": [
    "# Criar coluna com temperatura 1 hora no futuro\n",
    "df['temp_futuro'] = df['temperatura'].shift(-1)\n",
    "\n",
    "# Remover linhas com valores nulos\n",
    "df = df.dropna()\n",
    "\n",
    "# Features e target\n",
    "X = df[['temperatura', 'umidade']]\n",
    "y = df['temp_futuro']\n",
    "\n",
    "X_train, X_test, y_train, y_test = train_test_split(X, y, test_size=0.2, random_state=42)\n"
   ]
  },
  {
   "cell_type": "code",
   "execution_count": null,
   "id": "baccfef2",
   "metadata": {},
   "outputs": [],
   "source": [
    "modelo = LinearRegression()\n",
    "modelo.fit(X_train, y_train)\n",
    "y_pred = modelo.predict(X_test)\n",
    "\n",
    "mse = mean_squared_error(y_test, y_pred)\n",
    "print(f'MSE: {mse:.2f}')\n",
    "\n",
    "# Comparação visual\n",
    "plt.plot(y_test.values[:50], label='Real')\n",
    "plt.plot(y_pred[:50], label='Previsto')\n",
    "plt.title('Previsão de Temperatura - 1h à frente')\n",
    "plt.legend()\n",
    "plt.show()\n"
   ]
  },
  {
   "cell_type": "markdown",
   "id": "045c1ebb",
   "metadata": {},
   "source": [
    "### 🔧 Extensões possíveis para o projeto final\n",
    "\n",
    "- Adicionar variáveis de tempo (hora do dia, dia da semana).\n",
    "- Usar médias móveis como features.\n",
    "- Aplicar outros algoritmos de regressão (Árvore de Decisão, SVR, etc).\n",
    "- Mudar o alvo para umidade ou outra variável.\n",
    "- Testar previsões com diferentes janelas de tempo.\n",
    "- Usar clusterização para identificar padrões antes da regressão.\n"
   ]
  }
 ],
 "metadata": {},
 "nbformat": 4,
 "nbformat_minor": 5
}
