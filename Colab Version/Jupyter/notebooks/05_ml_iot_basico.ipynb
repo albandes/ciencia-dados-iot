{
 "cells": [
  {
   "cell_type": "code",
   "execution_count": null,
   "id": "e2ff4325",
   "metadata": {},
   "outputs": [],
   "source": [
    "import pandas as pd\n",
    "from sklearn.model_selection import train_test_split\n",
    "from sklearn.linear_model import LinearRegression\n",
    "from sklearn.cluster import KMeans\n",
    "import matplotlib.pyplot as plt\n",
    "\n",
    "# Carregar dados reamostrados\n",
    "df = pd.read_csv('sensor_temp_umid.csv', parse_dates=['timestamp'])\n",
    "df.set_index('timestamp', inplace=True)\n",
    "df = df.resample('1H').mean().dropna()\n",
    "df.head()\n"
   ]
  },
  {
   "cell_type": "code",
   "execution_count": null,
   "id": "2daaa5c1",
   "metadata": {},
   "outputs": [],
   "source": [
    "# Regressão Linear: prever temperatura com base na umidade\n",
    "X = df[['umidade']]\n",
    "y = df['temperatura']\n",
    "\n",
    "X_train, X_test, y_train, y_test = train_test_split(X, y, test_size=0.2, random_state=42)\n",
    "\n",
    "modelo = LinearRegression()\n",
    "modelo.fit(X_train, y_train)\n",
    "\n",
    "y_pred = modelo.predict(X_test)\n",
    "\n",
    "# Visualização\n",
    "plt.scatter(X_test, y_test, label='Real')\n",
    "plt.scatter(X_test, y_pred, label='Previsto', marker='x')\n",
    "plt.title('Regressão Linear: Temperatura x Umidade')\n",
    "plt.xlabel('Umidade')\n",
    "plt.ylabel('Temperatura')\n",
    "plt.legend()\n",
    "plt.show()\n",
    "\n",
    "# R²\n",
    "modelo.score(X_test, y_test)\n"
   ]
  },
  {
   "cell_type": "code",
   "execution_count": null,
   "id": "29a6485b",
   "metadata": {},
   "outputs": [],
   "source": [
    "from sklearn.preprocessing import StandardScaler\n",
    "\n",
    "scaler = StandardScaler()\n",
    "df_scaled = scaler.fit_transform(df)\n",
    "\n",
    "kmeans = KMeans(n_clusters=3, random_state=0)\n",
    "df['cluster'] = kmeans.fit_predict(df_scaled)\n",
    "\n",
    "# Visualização dos clusters\n",
    "plt.scatter(df['temperatura'], df['umidade'], c=df['cluster'], cmap='viridis')\n",
    "plt.xlabel('Temperatura')\n",
    "plt.ylabel('Umidade')\n",
    "plt.title('Clusters de Sensores')\n",
    "plt.show()\n"
   ]
  }
 ],
 "metadata": {},
 "nbformat": 4,
 "nbformat_minor": 5
}
