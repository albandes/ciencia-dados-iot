{
 "cells": [
  {
   "cell_type": "code",
   "execution_count": null,
   "id": "5ec2e734",
   "metadata": {},
   "outputs": [],
   "source": [
    "import pandas as pd\n",
    "import numpy as np\n",
    "\n",
    "# Carregar o CSV\n",
    "df = pd.read_csv('sensor_temp_umid.csv', parse_dates=['timestamp'])\n",
    "\n",
    "# Ver os primeiros registros\n",
    "df.head()\n"
   ]
  },
  {
   "cell_type": "code",
   "execution_count": null,
   "id": "357e27d3",
   "metadata": {},
   "outputs": [],
   "source": [
    "# Verificar tipos, valores ausentes e estatísticas\n",
    "df.info()\n",
    "df.isnull().sum()\n",
    "df.describe()\n"
   ]
  },
  {
   "cell_type": "code",
   "execution_count": null,
   "id": "cd992c3f",
   "metadata": {},
   "outputs": [],
   "source": [
    "# Inserir valores ausentes artificialmente para demonstração\n",
    "df.loc[10:15, 'temperatura'] = np.nan\n",
    "df.loc[100:105, 'umidade'] = np.nan\n"
   ]
  },
  {
   "cell_type": "code",
   "execution_count": null,
   "id": "e6f435a4",
   "metadata": {},
   "outputs": [],
   "source": [
    "# Tratamento de valores ausentes\n",
    "df = df.fillna(method='ffill')  # preenchimento para frente\n"
   ]
  },
  {
   "cell_type": "code",
   "execution_count": null,
   "id": "bd785d7a",
   "metadata": {},
   "outputs": [],
   "source": [
    "# Reamostragem para médias horárias\n",
    "df.set_index('timestamp', inplace=True)\n",
    "df_hora = df.resample('1H').mean()\n",
    "df_hora.head()\n"
   ]
  },
  {
   "cell_type": "code",
   "execution_count": null,
   "id": "1aa057b3",
   "metadata": {},
   "outputs": [],
   "source": [
    "from sklearn.preprocessing import MinMaxScaler\n",
    "\n",
    "scaler = MinMaxScaler()\n",
    "df_norm = pd.DataFrame(scaler.fit_transform(df_hora),\n",
    "                       columns=df_hora.columns,\n",
    "                       index=df_hora.index)\n",
    "df_norm.head()\n"
   ]
  }
 ],
 "metadata": {},
 "nbformat": 4,
 "nbformat_minor": 5
}
