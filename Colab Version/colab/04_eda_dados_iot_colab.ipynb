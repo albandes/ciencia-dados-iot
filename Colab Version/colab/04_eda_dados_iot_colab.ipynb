{
 "cells": [
  {
   "cell_type": "code",
   "execution_count": null,
   "id": "2211a9cc",
   "metadata": {},
   "outputs": [],
   "source": [
    "# 🚀 Setup para Google Colab\n",
    "!pip install -q pandas matplotlib seaborn scikit-learn scipy\n",
    "\n",
    "# 📁 Upload do arquivo de dados (sensor_temp_umid.csv)\n",
    "from google.colab import files\n",
    "uploaded = files.upload()\n",
    "\n",
    "import pandas as pd\n"
   ]
  },
  {
   "cell_type": "code",
   "execution_count": null,
   "id": "8d3fd31f",
   "metadata": {},
   "outputs": [],
   "source": [
    "import pandas as pd\n",
    "import matplotlib.pyplot as plt\n",
    "import seaborn as sns\n",
    "\n",
    "# Carregar os dados reamostrados por hora\n",
    "df = pd.read_csv('sensor_temp_umid.csv', parse_dates=['timestamp'])\n",
    "df.set_index('timestamp', inplace=True)\n",
    "df = df.resample('1H').mean()\n",
    "df.head()\n"
   ]
  },
  {
   "cell_type": "code",
   "execution_count": null,
   "id": "c30e8f22",
   "metadata": {},
   "outputs": [],
   "source": [
    "df.describe()\n"
   ]
  },
  {
   "cell_type": "code",
   "execution_count": null,
   "id": "afecc6cd",
   "metadata": {},
   "outputs": [],
   "source": [
    "df.plot(figsize=(12, 5), title='Sensores - Temperatura e Umidade (média por hora)')\n",
    "plt.xlabel(\"Tempo\")\n",
    "plt.ylabel(\"Valor\")\n",
    "plt.grid()\n",
    "plt.show()\n"
   ]
  },
  {
   "cell_type": "code",
   "execution_count": null,
   "id": "c918ebc8",
   "metadata": {},
   "outputs": [],
   "source": [
    "# Histogramas\n",
    "df.hist(bins=20, figsize=(10, 4))\n",
    "plt.tight_layout()\n",
    "plt.show()\n",
    "\n",
    "# Boxplots\n",
    "sns.boxplot(data=df)\n",
    "plt.title(\"Boxplot - Temperatura e Umidade\")\n",
    "plt.show()\n"
   ]
  },
  {
   "cell_type": "code",
   "execution_count": null,
   "id": "40261f5f",
   "metadata": {},
   "outputs": [],
   "source": [
    "from scipy.stats import zscore\n",
    "\n",
    "z_scores = df.apply(zscore)\n",
    "outliers = (abs(z_scores) > 3)\n",
    "outliers.sum()\n"
   ]
  },
  {
   "cell_type": "code",
   "execution_count": null,
   "id": "380ffea7",
   "metadata": {},
   "outputs": [],
   "source": [
    "plt.figure(figsize=(12, 5))\n",
    "plt.plot(df.index, df['temperatura'], label='Temperatura')\n",
    "plt.scatter(df.index[outliers['temperatura']], \n",
    "            df['temperatura'][outliers['temperatura']], \n",
    "            color='red', label='Outliers')\n",
    "plt.title(\"Temperatura com Outliers Destacados\")\n",
    "plt.legend()\n",
    "plt.show()\n"
   ]
  }
 ],
 "metadata": {},
 "nbformat": 4,
 "nbformat_minor": 5
}
